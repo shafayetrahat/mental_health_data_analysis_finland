{
 "cells": [
  {
   "cell_type": "code",
   "execution_count": 1,
   "id": "b36e1337-bbbb-462c-837b-fa969d8265f4",
   "metadata": {
    "tags": []
   },
   "outputs": [],
   "source": [
    "%reset -f\n",
    "import pandas as pd\n",
    "\n",
    "# income_data = pd.read_csv('Household_income.csv',encoding='latin-1',sep=',')"
   ]
  },
  {
   "cell_type": "code",
   "execution_count": 2,
   "id": "e7323a60-b1ff-4fc0-80b7-3ca93d78dd0f",
   "metadata": {
    "tags": []
   },
   "outputs": [],
   "source": [
    "# income_data\n",
    "# data = income_data.transpose()\n",
    "# data.columns = data.iloc[0,:]\n",
    "# data.reset_index(drop=True, inplace=True)  # Reset index\n"
   ]
  },
  {
   "cell_type": "code",
   "execution_count": 3,
   "id": "30009b58-f23d-48e6-950a-aec29105c647",
   "metadata": {
    "tags": []
   },
   "outputs": [],
   "source": [
    "# data = pd.read_csv('temp.csv',dtype=str)\n",
    "# data=data.drop(index=0).reset_index(drop=True)\n",
    "# data"
   ]
  },
  {
   "cell_type": "code",
   "execution_count": 4,
   "id": "2c80fd42-06d2-4b58-9847-cbc30d3bc0d4",
   "metadata": {
    "tags": []
   },
   "outputs": [],
   "source": [
    "# data.columns = [['information','income']]\n",
    "# data[['year','municipality']]=[row.split(' ',1) for _,row in data['information'].itertuples()]\n",
    "\n",
    "# data = data.drop('information',axis = 1)\n"
   ]
  },
  {
   "cell_type": "code",
   "execution_count": 5,
   "id": "28177699-8b4c-4a0f-b1a8-6083b5952c91",
   "metadata": {},
   "outputs": [],
   "source": [
    "# data.to_csv('Household_income_processed.csv',index=False)"
   ]
  },
  {
   "cell_type": "code",
   "execution_count": 6,
   "id": "9037d314-7d92-4e2c-b209-257308f34908",
   "metadata": {
    "tags": []
   },
   "outputs": [],
   "source": [
    "# data = pd.read_csv('Household_income_processed.csv')\n",
    "# # data.describe()\n",
    "# data.info()\n",
    "# data.isnull().values.any()"
   ]
  },
  {
   "cell_type": "code",
   "execution_count": 7,
   "id": "dfdf1b8d-0065-45a3-acaa-c6bee4c77b96",
   "metadata": {
    "tags": []
   },
   "outputs": [],
   "source": [
    "# data = pd.read_csv('household_dewelling_debts.csv',encoding='latin-1',sep=',')"
   ]
  },
  {
   "cell_type": "code",
   "execution_count": 8,
   "id": "9f35fc4d-be2b-4b2a-8d3b-0de75f91ef32",
   "metadata": {
    "tags": []
   },
   "outputs": [],
   "source": [
    "# data"
   ]
  },
  {
   "cell_type": "code",
   "execution_count": 9,
   "id": "17bee6ad-c035-4715-8eaf-0248732631eb",
   "metadata": {
    "tags": []
   },
   "outputs": [],
   "source": [
    "# data['Type of debt'].describe()"
   ]
  },
  {
   "cell_type": "code",
   "execution_count": 10,
   "id": "421d09e4-363e-4e64-b040-b618bb0f178b",
   "metadata": {
    "tags": []
   },
   "outputs": [],
   "source": [
    "# data = data.drop(['Household-dwelling units','Debts (euros)'],axis=1)"
   ]
  },
  {
   "cell_type": "code",
   "execution_count": 11,
   "id": "8f705f38-6334-4e52-991c-d8565952073d",
   "metadata": {
    "tags": []
   },
   "outputs": [],
   "source": [
    "# data.info()\n",
    "# data.columns = ['year','municipality','type_of_debt','mean_debt_euro']\n",
    "# debt_tot = data[data['type_of_debt']=='Debts total']\n",
    "# debt_tot.to_csv('preprocessed/total_debt_preprocessed.csv',index=False)"
   ]
  },
  {
   "cell_type": "code",
   "execution_count": 12,
   "id": "20634ec6-3513-41c7-8709-bed55f6d5525",
   "metadata": {
    "tags": []
   },
   "outputs": [],
   "source": [
    "# debt_housing = data[data['type_of_debt']=='Housing loans']\n",
    "# debt_housing.to_csv('preprocessed/loan_housing.csv',index=False)"
   ]
  },
  {
   "cell_type": "code",
   "execution_count": 13,
   "id": "9f389baf-73b7-43d4-8ad3-c6d5c0b357cc",
   "metadata": {
    "tags": []
   },
   "outputs": [],
   "source": [
    "# student_loan = data[data['type_of_debt']=='Study loans']\n",
    "# student_loan.to_csv('preprocessed/student_loan_preprocessed.csv',index=False)"
   ]
  },
  {
   "cell_type": "code",
   "execution_count": 14,
   "id": "6944a404-8946-4940-b82f-3ca1e53db66e",
   "metadata": {
    "tags": []
   },
   "outputs": [],
   "source": [
    "# business_loan =  data[data['type_of_debt']=='Loans charged on business activities or a source of income']\n",
    "# business_loan.to_csv('preprocessed/business_loan_preprocessed.csv',index=False)"
   ]
  },
  {
   "cell_type": "code",
   "execution_count": 15,
   "id": "93dc96c3-f2a3-4791-ad65-a776f737038e",
   "metadata": {
    "tags": []
   },
   "outputs": [],
   "source": [
    "# other_debt = data[data['type_of_debt']=='Other debts']\n",
    "# other_debt.to_csv('preprocessed/other_debt_preprocessed.csv',index=False)"
   ]
  },
  {
   "cell_type": "code",
   "execution_count": 16,
   "id": "1753e8f0-a89a-4c52-bd74-bd1dff2e06cd",
   "metadata": {
    "tags": []
   },
   "outputs": [],
   "source": [
    "# data = pd.read_csv('Dwelling_proverty_risk.csv',encoding='latin-1',sep=',')"
   ]
  },
  {
   "cell_type": "code",
   "execution_count": 17,
   "id": "eccacef3-9178-4ccd-87b2-79cb7378a7f1",
   "metadata": {
    "tags": []
   },
   "outputs": [],
   "source": [
    "# poverty_number = data[data['Information']==\"At risk of poverty rate (threshold 60 % of median)\"]\n",
    "# poverty_number = poverty_number.drop('Information',axis=1)\n",
    "# poverty_number = poverty_number.drop(['1995','1996'],axis=1)\n",
    "# poverty_number\n",
    "# data.iloc[:,2:-1]"
   ]
  },
  {
   "cell_type": "code",
   "execution_count": 18,
   "id": "c0e72ca6-bf0a-40b9-9bdb-9249bb3cf359",
   "metadata": {
    "tags": []
   },
   "outputs": [],
   "source": [
    "# poverty_yearly = poverty_number.iloc[:,:-1]\n",
    "# # poverty_number\n",
    "# temp = pd.melt(poverty_yearly, id_vars=['Region'], var_name='Year', value_name='poverty_rate')"
   ]
  },
  {
   "cell_type": "code",
   "execution_count": 19,
   "id": "9ae88215-c867-40e8-a7ab-477868638393",
   "metadata": {
    "tags": []
   },
   "outputs": [],
   "source": [
    "# temp.to_csv('preprocessed/poverty_rate.csv',index=False)"
   ]
  },
  {
   "cell_type": "code",
   "execution_count": 20,
   "id": "dc708fac-78ad-4417-9c3d-77a6a8311e39",
   "metadata": {
    "tags": []
   },
   "outputs": [],
   "source": [
    "# temp.info()"
   ]
  },
  {
   "cell_type": "code",
   "execution_count": 21,
   "id": "be1b02de-b1f7-486f-a678-ebfab7683ddd",
   "metadata": {
    "tags": []
   },
   "outputs": [],
   "source": [
    "# data = pd.read_csv('pop_density.csv',encoding='latin-1',sep=',')\n",
    "# data=data.drop('Information',axis=1)\n",
    "# temp = pd.melt(data, id_vars=['Area'], var_name='Year', value_name='pop_rate')\n",
    "# temp.to_csv('preprocessed/pop_density_processed.csv',index=False)"
   ]
  },
  {
   "cell_type": "code",
   "execution_count": 22,
   "id": "abcccf99-61f2-43ec-bea7-96f3d8485fed",
   "metadata": {
    "tags": []
   },
   "outputs": [],
   "source": [
    "# data = pd.read_csv('Bankruptcy.csv',encoding='latin-1',sep=',',na_values=['#VALUE!', '#DIV/0!'])\n",
    "# # data.info()\n",
    "# data=data.fillna(0)\n",
    "# data.info()\n",
    "# data.to_csv('preprocessed/bankruptcy_processed.csv')"
   ]
  },
  {
   "cell_type": "code",
   "execution_count": 23,
   "id": "3253b9e5-91c1-4d1f-b5ed-52f133a7c424",
   "metadata": {
    "tags": []
   },
   "outputs": [],
   "source": [
    "data = pd.read_csv('municipalitytowellbeing_conversion.csv',encoding='latin-1',sep=';')"
   ]
  },
  {
   "cell_type": "code",
   "execution_count": 24,
   "id": "498b5721-1d1e-49c5-95d8-f655829831df",
   "metadata": {
    "tags": []
   },
   "outputs": [
    {
     "data": {
      "text/html": [
       "<div>\n",
       "<style scoped>\n",
       "    .dataframe tbody tr th:only-of-type {\n",
       "        vertical-align: middle;\n",
       "    }\n",
       "\n",
       "    .dataframe tbody tr th {\n",
       "        vertical-align: top;\n",
       "    }\n",
       "\n",
       "    .dataframe thead th {\n",
       "        text-align: right;\n",
       "    }\n",
       "</style>\n",
       "<table border=\"1\" class=\"dataframe\">\n",
       "  <thead>\n",
       "    <tr style=\"text-align: right;\">\n",
       "      <th></th>\n",
       "      <th>sourceCode</th>\n",
       "      <th>sourceName</th>\n",
       "      <th>targetCode</th>\n",
       "      <th>targetName</th>\n",
       "      <th>distributionSourceToTarget</th>\n",
       "      <th>distributionTargetToSource</th>\n",
       "    </tr>\n",
       "  </thead>\n",
       "  <tbody>\n",
       "    <tr>\n",
       "      <th>0</th>\n",
       "      <td>'020'</td>\n",
       "      <td>Akaa</td>\n",
       "      <td>'08'</td>\n",
       "      <td>Pirkanmaa wellbeing services county</td>\n",
       "      <td>NaN</td>\n",
       "      <td>NaN</td>\n",
       "    </tr>\n",
       "    <tr>\n",
       "      <th>1</th>\n",
       "      <td>'005'</td>\n",
       "      <td>AlajÃ¤rvi</td>\n",
       "      <td>'16'</td>\n",
       "      <td>South Ostrobothnia wellbeing services county</td>\n",
       "      <td>NaN</td>\n",
       "      <td>NaN</td>\n",
       "    </tr>\n",
       "    <tr>\n",
       "      <th>2</th>\n",
       "      <td>'009'</td>\n",
       "      <td>Alavieska</td>\n",
       "      <td>'19'</td>\n",
       "      <td>North Ostrobothnia wellbeing services county</td>\n",
       "      <td>NaN</td>\n",
       "      <td>NaN</td>\n",
       "    </tr>\n",
       "    <tr>\n",
       "      <th>3</th>\n",
       "      <td>'010'</td>\n",
       "      <td>Alavus</td>\n",
       "      <td>'16'</td>\n",
       "      <td>South Ostrobothnia wellbeing services county</td>\n",
       "      <td>NaN</td>\n",
       "      <td>NaN</td>\n",
       "    </tr>\n",
       "    <tr>\n",
       "      <th>4</th>\n",
       "      <td>'016'</td>\n",
       "      <td>Asikkala</td>\n",
       "      <td>'09'</td>\n",
       "      <td>PÃ¤ijÃ¤t-HÃ¤me wellbeing services county</td>\n",
       "      <td>NaN</td>\n",
       "      <td>NaN</td>\n",
       "    </tr>\n",
       "    <tr>\n",
       "      <th>...</th>\n",
       "      <td>...</td>\n",
       "      <td>...</td>\n",
       "      <td>...</td>\n",
       "      <td>...</td>\n",
       "      <td>...</td>\n",
       "      <td>...</td>\n",
       "    </tr>\n",
       "    <tr>\n",
       "      <th>304</th>\n",
       "      <td>'977'</td>\n",
       "      <td>Ylivieska</td>\n",
       "      <td>'19'</td>\n",
       "      <td>North Ostrobothnia wellbeing services county</td>\n",
       "      <td>NaN</td>\n",
       "      <td>NaN</td>\n",
       "    </tr>\n",
       "    <tr>\n",
       "      <th>305</th>\n",
       "      <td>'980'</td>\n",
       "      <td>YlÃ¶jÃ¤rvi</td>\n",
       "      <td>'08'</td>\n",
       "      <td>Pirkanmaa wellbeing services county</td>\n",
       "      <td>NaN</td>\n",
       "      <td>NaN</td>\n",
       "    </tr>\n",
       "    <tr>\n",
       "      <th>306</th>\n",
       "      <td>'981'</td>\n",
       "      <td>YpÃ¤jÃ¤</td>\n",
       "      <td>'07'</td>\n",
       "      <td>Kanta-HÃ¤me wellbeing services county</td>\n",
       "      <td>NaN</td>\n",
       "      <td>NaN</td>\n",
       "    </tr>\n",
       "    <tr>\n",
       "      <th>307</th>\n",
       "      <td>'989'</td>\n",
       "      <td>ÃhtÃ¤ri</td>\n",
       "      <td>'16'</td>\n",
       "      <td>South Ostrobothnia wellbeing services county</td>\n",
       "      <td>NaN</td>\n",
       "      <td>NaN</td>\n",
       "    </tr>\n",
       "    <tr>\n",
       "      <th>308</th>\n",
       "      <td>'992'</td>\n",
       "      <td>ÃÃ¤nekoski</td>\n",
       "      <td>'15'</td>\n",
       "      <td>Central Finland wellbeing services county</td>\n",
       "      <td>NaN</td>\n",
       "      <td>NaN</td>\n",
       "    </tr>\n",
       "  </tbody>\n",
       "</table>\n",
       "<p>309 rows × 6 columns</p>\n",
       "</div>"
      ],
      "text/plain": [
       "    sourceCode   sourceName targetCode  \\\n",
       "0        '020'         Akaa       '08'   \n",
       "1        '005'    AlajÃ¤rvi       '16'   \n",
       "2        '009'    Alavieska       '19'   \n",
       "3        '010'       Alavus       '16'   \n",
       "4        '016'     Asikkala       '09'   \n",
       "..         ...          ...        ...   \n",
       "304      '977'    Ylivieska       '19'   \n",
       "305      '980'   YlÃ¶jÃ¤rvi       '08'   \n",
       "306      '981'      YpÃ¤jÃ¤       '07'   \n",
       "307      '989'     ÃhtÃ¤ri       '16'   \n",
       "308      '992'  ÃÃ¤nekoski       '15'   \n",
       "\n",
       "                                       targetName  distributionSourceToTarget  \\\n",
       "0             Pirkanmaa wellbeing services county                         NaN   \n",
       "1    South Ostrobothnia wellbeing services county                         NaN   \n",
       "2    North Ostrobothnia wellbeing services county                         NaN   \n",
       "3    South Ostrobothnia wellbeing services county                         NaN   \n",
       "4        PÃ¤ijÃ¤t-HÃ¤me wellbeing services county                         NaN   \n",
       "..                                            ...                         ...   \n",
       "304  North Ostrobothnia wellbeing services county                         NaN   \n",
       "305           Pirkanmaa wellbeing services county                         NaN   \n",
       "306         Kanta-HÃ¤me wellbeing services county                         NaN   \n",
       "307  South Ostrobothnia wellbeing services county                         NaN   \n",
       "308     Central Finland wellbeing services county                         NaN   \n",
       "\n",
       "     distributionTargetToSource  \n",
       "0                           NaN  \n",
       "1                           NaN  \n",
       "2                           NaN  \n",
       "3                           NaN  \n",
       "4                           NaN  \n",
       "..                          ...  \n",
       "304                         NaN  \n",
       "305                         NaN  \n",
       "306                         NaN  \n",
       "307                         NaN  \n",
       "308                         NaN  \n",
       "\n",
       "[309 rows x 6 columns]"
      ]
     },
     "execution_count": 24,
     "metadata": {},
     "output_type": "execute_result"
    }
   ],
   "source": [
    "data"
   ]
  },
  {
   "cell_type": "code",
   "execution_count": null,
   "id": "f79845e1-c173-442d-a6e0-ab816cac9079",
   "metadata": {},
   "outputs": [],
   "source": []
  }
 ],
 "metadata": {
  "kernelspec": {
   "display_name": "Python 3 (ipykernel)",
   "language": "python",
   "name": "python3"
  },
  "language_info": {
   "codemirror_mode": {
    "name": "ipython",
    "version": 3
   },
   "file_extension": ".py",
   "mimetype": "text/x-python",
   "name": "python",
   "nbconvert_exporter": "python",
   "pygments_lexer": "ipython3",
   "version": "3.10.12"
  }
 },
 "nbformat": 4,
 "nbformat_minor": 5
}
